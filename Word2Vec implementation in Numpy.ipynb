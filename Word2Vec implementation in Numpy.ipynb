{
 "cells": [
  {
   "cell_type": "markdown",
   "metadata": {},
   "source": [
    "## Data Preparation"
   ]
  },
  {
   "cell_type": "code",
   "execution_count": 34,
   "metadata": {},
   "outputs": [],
   "source": [
    "text = \"natural language processing and machine learning is fun and exciting\"\n",
    "\n",
    "corpus = [ [ word for word in text.lower().split() ] ]"
   ]
  },
  {
   "cell_type": "markdown",
   "metadata": {},
   "source": [
    "## Hyperparameters"
   ]
  },
  {
   "cell_type": "code",
   "execution_count": 35,
   "metadata": {},
   "outputs": [],
   "source": [
    "#Hyperparameters\n",
    "\n",
    "settings = {'window_size': 2, 'n': 10, 'epochs': 50, 'learning_rate': 0.01}\n",
    "\n",
    "# window size - context window around target word\n",
    "# n - dimensions of word embeddings (size of hidden layer)\n",
    "# epoch - number of training epochs\n",
    "# learning_rate - learning rate controls the adjustment made to weights w.r.t. the loss gradient"
   ]
  },
  {
   "cell_type": "markdown",
   "metadata": {},
   "source": [
    "# Generate Training Data"
   ]
  },
  {
   "cell_type": "code",
   "execution_count": 66,
   "metadata": {},
   "outputs": [],
   "source": [
    "import numpy as np\n",
    "\n",
    "class word2vec(object):\n",
    "    def __init__(self):\n",
    "        self.n = settings['n']\n",
    "        self.lr = settings['learning_rate']\n",
    "        self.epochs = settings['epochs']\n",
    "        self.window = settings['window_size']\n",
    "    \n",
    "    def generate_training_data(self, settings, corpus):\n",
    "        # dictionary of unique word counts in corpus\n",
    "        word_counts = dict()\n",
    "        for sentence in corpus:\n",
    "            for word in sentence:\n",
    "                word_counts[word] = word_counts.get(word, 0) + 1\n",
    "        \n",
    "        # vocabulary\n",
    "        self.words_list = list(word_counts.keys())\n",
    "        \n",
    "        # length of vocabulary (number of unique words in corpus)\n",
    "        self.v_count =  len(word_counts.keys())\n",
    "        \n",
    "        # generate word:index dictionary\n",
    "        self.word_index = { word : idx for idx, word in enumerate(self.words_list) }\n",
    "        \n",
    "        # generate index:word dictionary\n",
    "        self.index_word = { idx : word for idx, word in enumerate(self.words_list) }\n",
    "        \n",
    "        training_data = list()\n",
    "        for sentence in corpus:\n",
    "            sent_len = len(sentence)\n",
    "            for i, word in enumerate(sentence):\n",
    "                w_target = self.word2onehot(sentence[i])\n",
    "                \n",
    "                #initialize context window\n",
    "                w_context = list()\n",
    "                for j in range(i - self.window, i + self.window + 1):\n",
    "                    # Target word cannot be context word (j!=i)\n",
    "                    # Index must be greater than 0 (j>=0)\n",
    "                    # Index must be le length of sentence (j<=sent_len-1)\n",
    "                    if (j!=i and j>=0 and j<=sent_len-1):\n",
    "                        w_context.append(self.word2onehot(sentence[j]))\n",
    "                        #print(sentence[i], sentence[j])\n",
    "                    \n",
    "                training_data.append([w_target, w_context])\n",
    "            \n",
    "        return np.array(training_data)\n",
    "    \n",
    "    def word2onehot(self, word):\n",
    "        # initialize a zero vector\n",
    "        word_vec = np.zeros(self.v_count, dtype=int)\n",
    "        \n",
    "        # retrieve index of word from word:index dictionary\n",
    "        word_index = self.word_index[word]\n",
    "        \n",
    "        # Set value to 1 \n",
    "        word_vec[word_index] = 1\n",
    "        \n",
    "        return word_vec\n",
    "    \n",
    "    def train(self, training_data):\n",
    "        self.w1 = np.random.uniform(-1, 1, (self.v_count, self.n))\n",
    "        self.w2 = np.random.uniform(-1, 1, (self.n, self.v_count))\n",
    "    \n",
    "        for i in range(self.epochs):\n",
    "            # initialize loss to 0\n",
    "            self.loss = 0\n",
    "            \n",
    "            for w_t, w_c in training_data:\n",
    "                y_pred, h, u = self.forward_pass(w_t)\n",
    "                \n",
    "                EI = np.sum([ np.subtract(y_pred, word) for word in w_c ],axis=0)\n",
    "                \n",
    "                self.backprop(EI, h, w_t)\n",
    "                \n",
    "                self.loss += -np.sum([u[word.index(1)] for word in w_c]) + len(w_c)*np.log(np.sum(np.exp(u)))\n",
    "                \n",
    "            print('Epoch:', i, \"Loss:\", self.loss)\n",
    "    \n",
    "    def forward_pass(self, vec):\n",
    "        # vec is the one-hot vector for target word\n",
    "        \n",
    "        # Dot product of vec and weight matrix w1 gives the hidden layer h\n",
    "        h = np.dot(vec, self.w1)\n",
    "        \n",
    "        # Dot product of hidden layer with weight matrix w2 gives output layer u\n",
    "        u = np.dot(h, self.w2)\n",
    "        \n",
    "        # Apply softmax function on output layer to force each element to range [0, 1]\n",
    "        y_c = self.softmax(u)\n",
    "        \n",
    "        return y_c, h, u\n",
    "    \n",
    "    def backprop(self, e, h, x):\n",
    "        dl_dw2 = np.outrt(h, e)\n",
    "        dl_dw1 = np.outer(x, np.dot(self.w2, e.T))\n",
    "        \n",
    "        # Update weights\n",
    "        self.w1 = self.w1 - (self.lr * dl_dw1)\n",
    "        self.w2 = self.w2 - (self.lr * dl_dw2)\n",
    "    \n",
    "    def softmax(self, x):\n",
    "        e_x = np.exp(x - np.max(x))\n",
    "        return e_x / e_x.sum(axis=0)\n",
    "    \n",
    "    \"\"\"\n",
    "    def word_vec(self, word):\n",
    "        #Get vector from word\n",
    "        w_index = self.word_index[word]\n",
    "        v_w = self.w1[w_index]\n",
    "        return v_w\n",
    "    \n",
    "    \n",
    "    def vec_sim(self, word, top_n):\n",
    "        v_w1 = self.word_vec(word)\n",
    "        word_sim = dict()\n",
    "        \n",
    "        for i in range(self.v_count):\n",
    "            # find similarity score for each word in vocab\n",
    "            v_w2 = self.w1[i]\n",
    "            theta_sum = np.dot(v_w1, v_w2)\n",
    "            theta_den = np.linalg.norm(v_w1) * np.linalg.norm(v_w2)\n",
    "            theta = theta_sum / theta_den\n",
    "            \n",
    "            word = self.index_word[i]\n",
    "            word_sim[word] = theta\n",
    "        \n",
    "        words_sorted = sorted(word_sim.items(), key=lambda x : x[1], reverse=True)\n",
    "        \n",
    "        for word, sim in words_sorted[:top_n]:\n",
    "            print(word, sim)\n",
    "    \n",
    "    \"\"\""
   ]
  },
  {
   "cell_type": "code",
   "execution_count": 65,
   "metadata": {},
   "outputs": [],
   "source": [
    "w2v = word2vec()\n",
    "training_data = w2v.generate_training_data(settings, corpus)\n",
    "#vec = w2v.word_vec(\"machine\")"
   ]
  },
  {
   "cell_type": "code",
   "execution_count": 63,
   "metadata": {},
   "outputs": [
    {
     "data": {
      "text/plain": [
       "array([1, 0, 0, 0, 0, 0, 0, 0, 0])"
      ]
     },
     "execution_count": 63,
     "metadata": {},
     "output_type": "execute_result"
    }
   ],
   "source": [
    "training_data[0][0]"
   ]
  },
  {
   "cell_type": "code",
   "execution_count": 64,
   "metadata": {},
   "outputs": [
    {
     "data": {
      "text/plain": [
       "[array([0, 1, 0, 0, 0, 0, 0, 0, 0]), array([0, 0, 1, 0, 0, 0, 0, 0, 0])]"
      ]
     },
     "execution_count": 64,
     "metadata": {},
     "output_type": "execute_result"
    }
   ],
   "source": [
    "training_data[0][1]"
   ]
  },
  {
   "cell_type": "code",
   "execution_count": null,
   "metadata": {},
   "outputs": [],
   "source": []
  }
 ],
 "metadata": {
  "kernelspec": {
   "display_name": "Python 3",
   "language": "python",
   "name": "python3"
  },
  "language_info": {
   "codemirror_mode": {
    "name": "ipython",
    "version": 3
   },
   "file_extension": ".py",
   "mimetype": "text/x-python",
   "name": "python",
   "nbconvert_exporter": "python",
   "pygments_lexer": "ipython3",
   "version": "3.7.3"
  }
 },
 "nbformat": 4,
 "nbformat_minor": 2
}
